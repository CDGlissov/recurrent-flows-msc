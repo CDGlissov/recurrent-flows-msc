{
  "nbformat": 4,
  "nbformat_minor": 0,
  "metadata": {
    "colab": {
      "name": "HalfMoonFlows.ipynb",
      "provenance": [],
      "collapsed_sections": []
    },
    "kernelspec": {
      "name": "python3",
      "display_name": "Python 3"
    },
    "accelerator": "GPU",
    "widgets": {
      "application/vnd.jupyter.widget-state+json": {
        "13ef3c283540425a86c736303cbdebf2": {
          "model_module": "@jupyter-widgets/controls",
          "model_name": "HBoxModel",
          "state": {
            "_view_name": "HBoxView",
            "_dom_classes": [],
            "_model_name": "HBoxModel",
            "_view_module": "@jupyter-widgets/controls",
            "_model_module_version": "1.5.0",
            "_view_count": null,
            "_view_module_version": "1.5.0",
            "box_style": "",
            "layout": "IPY_MODEL_b85afa3245a44497beb805724b858909",
            "_model_module": "@jupyter-widgets/controls",
            "children": [
              "IPY_MODEL_c6dce55580d74b3e855caf1835028254",
              "IPY_MODEL_aa86f81987774ee7a5e9897ddb2bb16f"
            ]
          }
        },
        "b85afa3245a44497beb805724b858909": {
          "model_module": "@jupyter-widgets/base",
          "model_name": "LayoutModel",
          "state": {
            "_view_name": "LayoutView",
            "grid_template_rows": null,
            "right": null,
            "justify_content": null,
            "_view_module": "@jupyter-widgets/base",
            "overflow": null,
            "_model_module_version": "1.2.0",
            "_view_count": null,
            "flex_flow": null,
            "width": null,
            "min_width": null,
            "border": null,
            "align_items": null,
            "bottom": null,
            "_model_module": "@jupyter-widgets/base",
            "top": null,
            "grid_column": null,
            "overflow_y": null,
            "overflow_x": null,
            "grid_auto_flow": null,
            "grid_area": null,
            "grid_template_columns": null,
            "flex": null,
            "_model_name": "LayoutModel",
            "justify_items": null,
            "grid_row": null,
            "max_height": null,
            "align_content": null,
            "visibility": null,
            "align_self": null,
            "height": null,
            "min_height": null,
            "padding": null,
            "grid_auto_rows": null,
            "grid_gap": null,
            "max_width": null,
            "order": null,
            "_view_module_version": "1.2.0",
            "grid_template_areas": null,
            "object_position": null,
            "object_fit": null,
            "grid_auto_columns": null,
            "margin": null,
            "display": null,
            "left": null
          }
        },
        "c6dce55580d74b3e855caf1835028254": {
          "model_module": "@jupyter-widgets/controls",
          "model_name": "FloatProgressModel",
          "state": {
            "_view_name": "ProgressView",
            "style": "IPY_MODEL_aeff3c05612f4fabb07d082d5c3a3862",
            "_dom_classes": [],
            "description": "Epoch: 100%",
            "_model_name": "FloatProgressModel",
            "bar_style": "",
            "max": 100,
            "_view_module": "@jupyter-widgets/controls",
            "_model_module_version": "1.5.0",
            "value": 100,
            "_view_count": null,
            "_view_module_version": "1.5.0",
            "orientation": "horizontal",
            "min": 0,
            "description_tooltip": null,
            "_model_module": "@jupyter-widgets/controls",
            "layout": "IPY_MODEL_ef4f4124002e497bbbee24714e8fd7ce"
          }
        },
        "aa86f81987774ee7a5e9897ddb2bb16f": {
          "model_module": "@jupyter-widgets/controls",
          "model_name": "HTMLModel",
          "state": {
            "_view_name": "HTMLView",
            "style": "IPY_MODEL_8ef5499082f54a458932fa77890b312c",
            "_dom_classes": [],
            "description": "",
            "_model_name": "HTMLModel",
            "placeholder": "​",
            "_view_module": "@jupyter-widgets/controls",
            "_model_module_version": "1.5.0",
            "value": " 100/100 [00:22&lt;00:00,  4.41it/s]",
            "_view_count": null,
            "_view_module_version": "1.5.0",
            "description_tooltip": null,
            "_model_module": "@jupyter-widgets/controls",
            "layout": "IPY_MODEL_a642d1a92dac4d33b1c24210fc110656"
          }
        },
        "aeff3c05612f4fabb07d082d5c3a3862": {
          "model_module": "@jupyter-widgets/controls",
          "model_name": "ProgressStyleModel",
          "state": {
            "_view_name": "StyleView",
            "_model_name": "ProgressStyleModel",
            "description_width": "initial",
            "_view_module": "@jupyter-widgets/base",
            "_model_module_version": "1.5.0",
            "_view_count": null,
            "_view_module_version": "1.2.0",
            "bar_color": null,
            "_model_module": "@jupyter-widgets/controls"
          }
        },
        "ef4f4124002e497bbbee24714e8fd7ce": {
          "model_module": "@jupyter-widgets/base",
          "model_name": "LayoutModel",
          "state": {
            "_view_name": "LayoutView",
            "grid_template_rows": null,
            "right": null,
            "justify_content": null,
            "_view_module": "@jupyter-widgets/base",
            "overflow": null,
            "_model_module_version": "1.2.0",
            "_view_count": null,
            "flex_flow": null,
            "width": null,
            "min_width": null,
            "border": null,
            "align_items": null,
            "bottom": null,
            "_model_module": "@jupyter-widgets/base",
            "top": null,
            "grid_column": null,
            "overflow_y": null,
            "overflow_x": null,
            "grid_auto_flow": null,
            "grid_area": null,
            "grid_template_columns": null,
            "flex": null,
            "_model_name": "LayoutModel",
            "justify_items": null,
            "grid_row": null,
            "max_height": null,
            "align_content": null,
            "visibility": null,
            "align_self": null,
            "height": null,
            "min_height": null,
            "padding": null,
            "grid_auto_rows": null,
            "grid_gap": null,
            "max_width": null,
            "order": null,
            "_view_module_version": "1.2.0",
            "grid_template_areas": null,
            "object_position": null,
            "object_fit": null,
            "grid_auto_columns": null,
            "margin": null,
            "display": null,
            "left": null
          }
        },
        "8ef5499082f54a458932fa77890b312c": {
          "model_module": "@jupyter-widgets/controls",
          "model_name": "DescriptionStyleModel",
          "state": {
            "_view_name": "StyleView",
            "_model_name": "DescriptionStyleModel",
            "description_width": "",
            "_view_module": "@jupyter-widgets/base",
            "_model_module_version": "1.5.0",
            "_view_count": null,
            "_view_module_version": "1.2.0",
            "_model_module": "@jupyter-widgets/controls"
          }
        },
        "a642d1a92dac4d33b1c24210fc110656": {
          "model_module": "@jupyter-widgets/base",
          "model_name": "LayoutModel",
          "state": {
            "_view_name": "LayoutView",
            "grid_template_rows": null,
            "right": null,
            "justify_content": null,
            "_view_module": "@jupyter-widgets/base",
            "overflow": null,
            "_model_module_version": "1.2.0",
            "_view_count": null,
            "flex_flow": null,
            "width": null,
            "min_width": null,
            "border": null,
            "align_items": null,
            "bottom": null,
            "_model_module": "@jupyter-widgets/base",
            "top": null,
            "grid_column": null,
            "overflow_y": null,
            "overflow_x": null,
            "grid_auto_flow": null,
            "grid_area": null,
            "grid_template_columns": null,
            "flex": null,
            "_model_name": "LayoutModel",
            "justify_items": null,
            "grid_row": null,
            "max_height": null,
            "align_content": null,
            "visibility": null,
            "align_self": null,
            "height": null,
            "min_height": null,
            "padding": null,
            "grid_auto_rows": null,
            "grid_gap": null,
            "max_width": null,
            "order": null,
            "_view_module_version": "1.2.0",
            "grid_template_areas": null,
            "object_position": null,
            "object_fit": null,
            "grid_auto_columns": null,
            "margin": null,
            "display": null,
            "left": null
          }
        },
        "8ecad178b5794363bafe590dc8dc902c": {
          "model_module": "@jupyter-widgets/controls",
          "model_name": "HBoxModel",
          "state": {
            "_view_name": "HBoxView",
            "_dom_classes": [],
            "_model_name": "HBoxModel",
            "_view_module": "@jupyter-widgets/controls",
            "_model_module_version": "1.5.0",
            "_view_count": null,
            "_view_module_version": "1.5.0",
            "box_style": "",
            "layout": "IPY_MODEL_8dd367c828de46559dc3cb2f77a364ed",
            "_model_module": "@jupyter-widgets/controls",
            "children": [
              "IPY_MODEL_a48b593872c74af48cf2cdca77fbefb2",
              "IPY_MODEL_9d2f297c059641c3bca8814d7a8eb9a0"
            ]
          }
        },
        "8dd367c828de46559dc3cb2f77a364ed": {
          "model_module": "@jupyter-widgets/base",
          "model_name": "LayoutModel",
          "state": {
            "_view_name": "LayoutView",
            "grid_template_rows": null,
            "right": null,
            "justify_content": null,
            "_view_module": "@jupyter-widgets/base",
            "overflow": null,
            "_model_module_version": "1.2.0",
            "_view_count": null,
            "flex_flow": null,
            "width": null,
            "min_width": null,
            "border": null,
            "align_items": null,
            "bottom": null,
            "_model_module": "@jupyter-widgets/base",
            "top": null,
            "grid_column": null,
            "overflow_y": null,
            "overflow_x": null,
            "grid_auto_flow": null,
            "grid_area": null,
            "grid_template_columns": null,
            "flex": null,
            "_model_name": "LayoutModel",
            "justify_items": null,
            "grid_row": null,
            "max_height": null,
            "align_content": null,
            "visibility": null,
            "align_self": null,
            "height": null,
            "min_height": null,
            "padding": null,
            "grid_auto_rows": null,
            "grid_gap": null,
            "max_width": null,
            "order": null,
            "_view_module_version": "1.2.0",
            "grid_template_areas": null,
            "object_position": null,
            "object_fit": null,
            "grid_auto_columns": null,
            "margin": null,
            "display": null,
            "left": null
          }
        },
        "a48b593872c74af48cf2cdca77fbefb2": {
          "model_module": "@jupyter-widgets/controls",
          "model_name": "FloatProgressModel",
          "state": {
            "_view_name": "ProgressView",
            "style": "IPY_MODEL_41c8282c95fb46349f56ae138fe452a9",
            "_dom_classes": [],
            "description": "Epoch: 100%",
            "_model_name": "FloatProgressModel",
            "bar_style": "",
            "max": 200,
            "_view_module": "@jupyter-widgets/controls",
            "_model_module_version": "1.5.0",
            "value": 200,
            "_view_count": null,
            "_view_module_version": "1.5.0",
            "orientation": "horizontal",
            "min": 0,
            "description_tooltip": null,
            "_model_module": "@jupyter-widgets/controls",
            "layout": "IPY_MODEL_a2494811bbfb4d6ab78a13bf3ab301c3"
          }
        },
        "9d2f297c059641c3bca8814d7a8eb9a0": {
          "model_module": "@jupyter-widgets/controls",
          "model_name": "HTMLModel",
          "state": {
            "_view_name": "HTMLView",
            "style": "IPY_MODEL_20edc3f517784f81b0852bbea084b90c",
            "_dom_classes": [],
            "description": "",
            "_model_name": "HTMLModel",
            "placeholder": "​",
            "_view_module": "@jupyter-widgets/controls",
            "_model_module_version": "1.5.0",
            "value": " 200/200 [01:13&lt;00:00,  2.69it/s]",
            "_view_count": null,
            "_view_module_version": "1.5.0",
            "description_tooltip": null,
            "_model_module": "@jupyter-widgets/controls",
            "layout": "IPY_MODEL_c6c65af9727742c6b8abbaa88de3d9ec"
          }
        },
        "41c8282c95fb46349f56ae138fe452a9": {
          "model_module": "@jupyter-widgets/controls",
          "model_name": "ProgressStyleModel",
          "state": {
            "_view_name": "StyleView",
            "_model_name": "ProgressStyleModel",
            "description_width": "initial",
            "_view_module": "@jupyter-widgets/base",
            "_model_module_version": "1.5.0",
            "_view_count": null,
            "_view_module_version": "1.2.0",
            "bar_color": null,
            "_model_module": "@jupyter-widgets/controls"
          }
        },
        "a2494811bbfb4d6ab78a13bf3ab301c3": {
          "model_module": "@jupyter-widgets/base",
          "model_name": "LayoutModel",
          "state": {
            "_view_name": "LayoutView",
            "grid_template_rows": null,
            "right": null,
            "justify_content": null,
            "_view_module": "@jupyter-widgets/base",
            "overflow": null,
            "_model_module_version": "1.2.0",
            "_view_count": null,
            "flex_flow": null,
            "width": null,
            "min_width": null,
            "border": null,
            "align_items": null,
            "bottom": null,
            "_model_module": "@jupyter-widgets/base",
            "top": null,
            "grid_column": null,
            "overflow_y": null,
            "overflow_x": null,
            "grid_auto_flow": null,
            "grid_area": null,
            "grid_template_columns": null,
            "flex": null,
            "_model_name": "LayoutModel",
            "justify_items": null,
            "grid_row": null,
            "max_height": null,
            "align_content": null,
            "visibility": null,
            "align_self": null,
            "height": null,
            "min_height": null,
            "padding": null,
            "grid_auto_rows": null,
            "grid_gap": null,
            "max_width": null,
            "order": null,
            "_view_module_version": "1.2.0",
            "grid_template_areas": null,
            "object_position": null,
            "object_fit": null,
            "grid_auto_columns": null,
            "margin": null,
            "display": null,
            "left": null
          }
        },
        "20edc3f517784f81b0852bbea084b90c": {
          "model_module": "@jupyter-widgets/controls",
          "model_name": "DescriptionStyleModel",
          "state": {
            "_view_name": "StyleView",
            "_model_name": "DescriptionStyleModel",
            "description_width": "",
            "_view_module": "@jupyter-widgets/base",
            "_model_module_version": "1.5.0",
            "_view_count": null,
            "_view_module_version": "1.2.0",
            "_model_module": "@jupyter-widgets/controls"
          }
        },
        "c6c65af9727742c6b8abbaa88de3d9ec": {
          "model_module": "@jupyter-widgets/base",
          "model_name": "LayoutModel",
          "state": {
            "_view_name": "LayoutView",
            "grid_template_rows": null,
            "right": null,
            "justify_content": null,
            "_view_module": "@jupyter-widgets/base",
            "overflow": null,
            "_model_module_version": "1.2.0",
            "_view_count": null,
            "flex_flow": null,
            "width": null,
            "min_width": null,
            "border": null,
            "align_items": null,
            "bottom": null,
            "_model_module": "@jupyter-widgets/base",
            "top": null,
            "grid_column": null,
            "overflow_y": null,
            "overflow_x": null,
            "grid_auto_flow": null,
            "grid_area": null,
            "grid_template_columns": null,
            "flex": null,
            "_model_name": "LayoutModel",
            "justify_items": null,
            "grid_row": null,
            "max_height": null,
            "align_content": null,
            "visibility": null,
            "align_self": null,
            "height": null,
            "min_height": null,
            "padding": null,
            "grid_auto_rows": null,
            "grid_gap": null,
            "max_width": null,
            "order": null,
            "_view_module_version": "1.2.0",
            "grid_template_areas": null,
            "object_position": null,
            "object_fit": null,
            "grid_auto_columns": null,
            "margin": null,
            "display": null,
            "left": null
          }
        }
      }
    }
  },
  "cells": [
    {
      "cell_type": "code",
      "metadata": {
        "id": "ajHG74_-FUFn",
        "colab_type": "code",
        "colab": {
          "base_uri": "https://localhost:8080/",
          "height": 323
        },
        "outputId": "5a928380-3cbe-4279-9adc-1bc7686b661b"
      },
      "source": [
        "!if [ -d deepflows ]; then rm -Rf deepflows; fi\n",
        "!git clone https://github.com/CDGlissov/recurrent-flows-msc.git deepflows\n",
        "!pip install \"./deepflows\""
      ],
      "execution_count": 8,
      "outputs": [
        {
          "output_type": "stream",
          "text": [
            "Cloning into 'deepflows'...\n",
            "remote: Enumerating objects: 40, done.\u001b[K\n",
            "remote: Counting objects: 100% (40/40), done.\u001b[K\n",
            "remote: Compressing objects: 100% (34/34), done.\u001b[K\n",
            "remote: Total 40 (delta 10), reused 0 (delta 0), pack-reused 0\u001b[K\n",
            "Unpacking objects: 100% (40/40), done.\n",
            "Processing ./deepflows\n",
            "Requirement already satisfied: numpy in /usr/local/lib/python3.6/dist-packages (from recurrent-flows-msc==0.1.0) (1.18.5)\n",
            "Building wheels for collected packages: recurrent-flows-msc\n",
            "  Building wheel for recurrent-flows-msc (setup.py) ... \u001b[?25l\u001b[?25hdone\n",
            "  Created wheel for recurrent-flows-msc: filename=recurrent_flows_msc-0.1.0-cp36-none-any.whl size=1121 sha256=591380948543c5226be05fbb45c5ee44877d919d74a8c08fd56723d971eea99f\n",
            "  Stored in directory: /tmp/pip-ephem-wheel-cache-wntuswgr/wheels/f0/5a/77/8518120597d432632c6abe1aa892d29d8c308fccf620551d65\n",
            "Successfully built recurrent-flows-msc\n",
            "Installing collected packages: recurrent-flows-msc\n",
            "  Found existing installation: recurrent-flows-msc 0.1.0\n",
            "    Uninstalling recurrent-flows-msc-0.1.0:\n",
            "      Successfully uninstalled recurrent-flows-msc-0.1.0\n",
            "Successfully installed recurrent-flows-msc-0.1.0\n"
          ],
          "name": "stdout"
        }
      ]
    },
    {
      "cell_type": "code",
      "metadata": {
        "id": "F1hiBZmjFbre",
        "colab_type": "code",
        "colab": {}
      },
      "source": [
        "import torch\n",
        "import torch.optim as optim\n",
        "import torch.utils.data as Data  \n",
        "import torch.nn as nn\n",
        "import torch.nn.functional as F\n",
        "import torch.distributions as td\n",
        "import numpy as np\n",
        "from tqdm.notebook import trange, tqdm\n",
        "import torchvision\n",
        "\n",
        "from deepflows import utils\n",
        "from deepflows import plot_tools\n",
        "from deepflows.data_generators.halfmoon import * "
      ],
      "execution_count": 1,
      "outputs": []
    },
    {
      "cell_type": "code",
      "metadata": {
        "id": "WvNebA1_KcAF",
        "colab_type": "code",
        "colab": {
          "base_uri": "https://localhost:8080/",
          "height": 34
        },
        "outputId": "9b12a511-54df-4725-8465-189b95ae6a4b"
      },
      "source": [
        "device=utils.set_gpu(True)\n",
        "train_data, train_labels, test_data, test_labels=sample_half_moons(n_train=2000, n_test=1000)\n",
        "train_loader, test_loader = loader_half_moons(train_data, test_data, 64)"
      ],
      "execution_count": 2,
      "outputs": [
        {
          "output_type": "stream",
          "text": [
            "Note: GPU is available\n"
          ],
          "name": "stdout"
        }
      ]
    },
    {
      "cell_type": "code",
      "metadata": {
        "id": "8AHMEkx8Njyv",
        "colab_type": "code",
        "colab": {}
      },
      "source": [
        "def train(model, train_loader, optimizer):\n",
        "  losses = []\n",
        "  model.train()\n",
        "  for x in train_loader:\n",
        "    x = x.to(device).float()\n",
        "    loss = model.nll(x)\n",
        "    optimizer.zero_grad()\n",
        "    loss.backward()\n",
        "    optimizer.step()\n",
        "    losses.append(loss.item())\n",
        "  return losses\n",
        "\n",
        "def evaluate(model, validation_loader):\n",
        "  model.eval()\n",
        "  total_loss=0\n",
        "  n = len(validation_loader.dataset)\n",
        "  with torch.no_grad():\n",
        "    for x in validation_loader:\n",
        "      x = x.to(device).float()\n",
        "      loss = model.nll(x)\n",
        "      total_loss += loss * x.shape[0]\n",
        "    avg_loss = total_loss / n\n",
        "  return avg_loss.item()\n",
        "\n",
        "def run_model(model, train_loader, validation_loader, train_args):\n",
        "    epochs, lr = train_args['epochs'], train_args['lr']\n",
        "    optimizer = optim.Adam(model.parameters(), lr=lr)\n",
        "    train_losses, test_losses = [], []\n",
        "    \n",
        "    #Init loss:\n",
        "    test_loss = evaluate(model, validation_loader)\n",
        "    test_losses.append(test_loss)  \n",
        "\n",
        "    for epoch in tqdm(range(epochs), desc='Epoch', leave=False):\n",
        "        model.train()\n",
        "        epoch_train_losses = train(model, train_loader, optimizer) \n",
        "        train_losses.extend(epoch_train_losses)\n",
        "\n",
        "        test_loss = evaluate(model, validation_loader)\n",
        "        test_losses.append(test_loss)\n",
        "            \n",
        "    return train_losses, test_losses\n",
        "\n",
        "class MLP(nn.Module):\n",
        "    def __init__(self, input_dim, n_layers, hidden_dim, output_dim):\n",
        "        super(MLP, self).__init__()\n",
        "        layers = []\n",
        "        for _ in range(n_layers):\n",
        "          layers.append(nn.Linear(input_dim, hidden_dim))\n",
        "          layers.append(nn.ReLU())\n",
        "          input_dim = hidden_dim\n",
        "        layers.append(nn.Linear(hidden_dim, output_dim))\n",
        "        self.layers = nn.Sequential(*layers)\n",
        "\n",
        "    def forward(self, x):\n",
        "      return self.layers(x)"
      ],
      "execution_count": 3,
      "outputs": []
    },
    {
      "cell_type": "markdown",
      "metadata": {
        "id": "qrv5qV1GOQfC",
        "colab_type": "text"
      },
      "source": [
        "## Autoregressive Model"
      ]
    },
    {
      "cell_type": "code",
      "metadata": {
        "id": "LyY3AV74OMHt",
        "colab_type": "code",
        "colab": {}
      },
      "source": [
        "'''\n",
        "Here we make the mixtures\n",
        "https://en.wikipedia.org/wiki/Mixture_model\n",
        "[Batch_size, n_component, loc]\n",
        "'''\n",
        "class MixtureCDF(nn.Module):\n",
        "    def __init__(self, n_components):\n",
        "        super(MixtureCDF, self).__init__()\n",
        "        self.loc = nn.Parameter(torch.randn(n_components), requires_grad=True)\n",
        "        self.log_scale = nn.Parameter(torch.zeros(n_components), requires_grad=True)\n",
        "        self.weight_logits = nn.Parameter(torch.zeros(n_components), requires_grad=True)\n",
        "        self.n_components = n_components\n",
        "\n",
        "    def flow(self, x):\n",
        "        weights = F.softmax(self.weight_logits, dim=0).unsqueeze(0).repeat(x.shape[0], 1)\n",
        "        # cdf of x\n",
        "        z = (td.Normal(self.loc, self.log_scale.exp()).cdf(\n",
        "            x.unsqueeze(1).repeat(1, self.n_components))*weights).sum(dim=1)\n",
        "        # log_det = log dz/dx = log pdf(x)\n",
        "        log_det = (td.Normal(self.loc, self.log_scale.exp()).log_prob(\n",
        "            x.unsqueeze(1).repeat(1, self.n_components)).exp()*weights).sum(dim=1).log()\n",
        "        return z, log_det\n",
        "\n",
        "    def log_prob(self, x):\n",
        "        z, log_det = self.flow(x)\n",
        "        return td.Uniform(0.0, 1.0).log_prob(z) + log_det\n",
        " \n",
        "    # Compute loss as negative log-likelihood\n",
        "    def nll(self, x):\n",
        "        return -self.log_prob(x).mean()\n",
        "\n",
        "class AutoregFlow(nn.Module):\n",
        "    def __init__(self):\n",
        "        super(AutoregFlow, self).__init__()\n",
        "        self.components = 5\n",
        "        self.dim1_flow = MixtureCDF(n_components=self.components).to(device)\n",
        "        self.mlp = MLP(1, 3, 64, self.components * 3).to(device)\n",
        "\n",
        "    def flow(self, x):\n",
        "      #split into chunks\n",
        "      x1, x2 = torch.chunk(x, 2, dim=1)\n",
        "\n",
        "      #Dimension 1, x1, find parameters\n",
        "      z1, log_det1 = self.dim1_flow.flow(x1.squeeze())\n",
        "      loc, log_scale, weight_logits = torch.chunk(self.mlp(x1), 3, dim=1)\n",
        "      \n",
        "      #Use parameters to generate z2\n",
        "      weights = F.softmax(weight_logits, dim=1)\n",
        "      z2 = (td.Normal(loc, log_scale.exp()).cdf(\n",
        "            x2.repeat(1, self.components)) * weights).sum(dim=1)\n",
        "      log_det2 = (td.Normal(loc, log_scale.exp()).log_prob(\n",
        "          x2.repeat(1, self.components)).exp() * weights).sum(dim=1).log()\n",
        "      \n",
        "      #return z1/z2 and the determinant for the log_prob function\n",
        "      return (torch.cat([z1.unsqueeze(1), z2.unsqueeze(1)], dim=1), \n",
        "       torch.cat([log_det1.unsqueeze(1), log_det2.unsqueeze(1)], dim=1))\n",
        "\n",
        "    def log_prob(self, x):\n",
        "        z, log_det = self.flow(x)\n",
        "        return (td.Uniform(utils.tensor(0.0), utils.tensor(1.0)).log_prob(z) + log_det).mean(dim=1) # shape: [batch_size, dim]\n",
        "\n",
        "    def nll(self, x):\n",
        "      return - self.log_prob(x).mean()"
      ],
      "execution_count": 4,
      "outputs": []
    },
    {
      "cell_type": "code",
      "metadata": {
        "id": "Wcp95k0KOMUq",
        "colab_type": "code",
        "colab": {
          "base_uri": "https://localhost:8080/",
          "height": 17,
          "referenced_widgets": [
            "13ef3c283540425a86c736303cbdebf2",
            "b85afa3245a44497beb805724b858909",
            "c6dce55580d74b3e855caf1835028254",
            "aa86f81987774ee7a5e9897ddb2bb16f",
            "aeff3c05612f4fabb07d082d5c3a3862",
            "ef4f4124002e497bbbee24714e8fd7ce",
            "8ef5499082f54a458932fa77890b312c",
            "a642d1a92dac4d33b1c24210fc110656"
          ]
        },
        "outputId": "b5034c2b-fdec-42eb-d231-bc099335cd9c"
      },
      "source": [
        "ar_flow = AutoregFlow()\n",
        "train_losses, test_losses = run_model(ar_flow, train_loader, test_loader, dict(epochs=100, lr=5e-3))"
      ],
      "execution_count": 5,
      "outputs": [
        {
          "output_type": "display_data",
          "data": {
            "application/vnd.jupyter.widget-view+json": {
              "model_id": "13ef3c283540425a86c736303cbdebf2",
              "version_minor": 0,
              "version_major": 2
            },
            "text/plain": [
              "HBox(children=(FloatProgress(value=0.0, description='Epoch', style=ProgressStyle(description_width='initial'))…"
            ]
          },
          "metadata": {
            "tags": []
          }
        },
        {
          "output_type": "stream",
          "text": [
            "\r"
          ],
          "name": "stdout"
        }
      ]
    },
    {
      "cell_type": "code",
      "metadata": {
        "id": "6yacxWbeOrEA",
        "colab_type": "code",
        "colab": {
          "base_uri": "https://localhost:8080/",
          "height": 295
        },
        "outputId": "3b531571-fa46-45a0-a064-e23fa33684ed"
      },
      "source": [
        "plot_tools.show_2d_heatmap(ar_flow.log_prob, device, title=\"Autoregressive flow density map\")"
      ],
      "execution_count": 6,
      "outputs": [
        {
          "output_type": "display_data",
          "data": {
            "image/png": "[encoded data removed]",
            "text/plain": [
              "<Figure size 432x288 with 1 Axes>"
            ]
          },
          "metadata": {
            "tags": [],
            "needs_background": "light"
          }
        }
      ]
    },
    {
      "cell_type": "markdown",
      "metadata": {
        "id": "uS0oooAXSGKn",
        "colab_type": "text"
      },
      "source": [
        "## RealNVP Flow"
      ]
    },
    {
      "cell_type": "code",
      "metadata": {
        "id": "ChAMVTW1SFlI",
        "colab_type": "code",
        "colab": {}
      },
      "source": [
        "class AffineCoupling(nn.Module):\n",
        "    def __init__(self, type, n_layers=2, hidden_dim=64):\n",
        "        super(AffineCoupling, self).__init__()\n",
        "        self.mask = self.create_mask(type=type)\n",
        "        self.mlp = MLP(input_dim=2, n_layers=n_layers, hidden_dim=hidden_dim, output_dim=2).to(device)\n",
        "    \n",
        "    def create_mask(self, type):\n",
        "      if type == \"x_dim\":\n",
        "        mask = torch.FloatTensor([1.0, 0.0]).to(device)\n",
        "      elif type == \"y_dim\":\n",
        "        mask = torch.FloatTensor([0.0, 1.0]).to(device)\n",
        "      else:\n",
        "        print(\"Wrong type\")\n",
        "      return mask\n",
        "\n",
        "    def forward(self, x, reverse=False):\n",
        "        batch_size = x.shape[0]\n",
        "        b = self.mask.repeat(batch_size, 1)\n",
        "        x_mask = x * b\n",
        "        output=self.mlp(x_mask)\n",
        "\n",
        "        log_s, t = output.split(1, dim=1)\n",
        "\n",
        "        t = t * (1.0 - b)\n",
        "        log_s = log_s * (1.0 - b)\n",
        "\n",
        "        if reverse:\n",
        "            x = (x - t) * torch.exp(-log_s)\n",
        "        else:\n",
        "            x = x * torch.exp(log_s) + t\n",
        "        return x, log_s\n",
        "\n",
        "class RealNVP(nn.Module):\n",
        "    def __init__(self, \n",
        "                 transforms):\n",
        "        super().__init__()\n",
        "\n",
        "        self.prior = torch.distributions.Normal(torch.tensor(0.).to(device), torch.tensor(1.).to(device))\n",
        "        self.transforms = nn.ModuleList(transforms)\n",
        "    \n",
        "    def flow(self, x): #f\n",
        "        # maps x -> z\n",
        "        z, log_det = x, torch.zeros_like(x)\n",
        "        for op in self.transforms:\n",
        "            z, delta_log_det = op.forward(z)\n",
        "            log_det += delta_log_det\n",
        "        return z, log_det\n",
        "\n",
        "    def invert_flow(self, z): #g\n",
        "        # z -> x (inverse of f)\n",
        "        for op in reversed(self.transforms):\n",
        "            z, _ = op.forward(z, reverse=True)\n",
        "        return z\n",
        "\n",
        "    def log_prob(self, x):\n",
        "        z, log_det = self.flow(x)\n",
        "        return torch.sum(log_det, dim=1) + torch.sum(self.prior.log_prob(z), dim=1)\n",
        "\n",
        "    def sample(self, num_samples):\n",
        "        z = self.prior.sample([num_samples, 2])\n",
        "        return self.invert_flow(z)\n",
        "\n",
        "    def nll(self, x):\n",
        "        return - self.log_prob(x).mean()"
      ],
      "execution_count": 7,
      "outputs": []
    },
    {
      "cell_type": "code",
      "metadata": {
        "id": "i8ZuZbCYSShw",
        "colab_type": "code",
        "colab": {
          "base_uri": "https://localhost:8080/",
          "height": 17,
          "referenced_widgets": [
            "8ecad178b5794363bafe590dc8dc902c",
            "8dd367c828de46559dc3cb2f77a364ed",
            "a48b593872c74af48cf2cdca77fbefb2",
            "9d2f297c059641c3bca8814d7a8eb9a0",
            "41c8282c95fb46349f56ae138fe452a9",
            "a2494811bbfb4d6ab78a13bf3ab301c3",
            "20edc3f517784f81b0852bbea084b90c",
            "c6c65af9727742c6b8abbaa88de3d9ec"
          ]
        },
        "outputId": "164a29c5-5b82-4d7f-b763-38e8df9bcc75"
      },
      "source": [
        "RNVP_flow = RealNVP([AffineCoupling(\"y_dim\", n_layers=2, hidden_dim=64),\n",
        "                    AffineCoupling(\"x_dim\", n_layers=2, hidden_dim=64),\n",
        "                    AffineCoupling(\"y_dim\", n_layers=2, hidden_dim=64),\n",
        "                    AffineCoupling(\"x_dim\", n_layers=2, hidden_dim=64),\n",
        "                    AffineCoupling(\"y_dim\", n_layers=2, hidden_dim=64),\n",
        "                    AffineCoupling(\"x_dim\", n_layers=2, hidden_dim=64)])\n",
        "train_losses, test_losses = run_model(RNVP_flow, train_loader, test_loader, dict(epochs=200, lr=5e-3))"
      ],
      "execution_count": 8,
      "outputs": [
        {
          "output_type": "display_data",
          "data": {
            "application/vnd.jupyter.widget-view+json": {
              "model_id": "8ecad178b5794363bafe590dc8dc902c",
              "version_minor": 0,
              "version_major": 2
            },
            "text/plain": [
              "HBox(children=(FloatProgress(value=0.0, description='Epoch', max=200.0, style=ProgressStyle(description_width=…"
            ]
          },
          "metadata": {
            "tags": []
          }
        },
        {
          "output_type": "stream",
          "text": [
            "\r"
          ],
          "name": "stdout"
        }
      ]
    },
    {
      "cell_type": "code",
      "metadata": {
        "id": "HarPvWt3SUvm",
        "colab_type": "code",
        "colab": {
          "base_uri": "https://localhost:8080/",
          "height": 295
        },
        "outputId": "cc3cc581-a889-4016-e8f2-f2c597135e3b"
      },
      "source": [
        "plot_tools.show_2d_heatmap(RNVP_flow.log_prob, device, title=\"Autoregressive flow density map\")"
      ],
      "execution_count": 9,
      "outputs": [
        {
          "output_type": "display_data",
          "data": {
            "image/png": "[encoded data removed]",
            "text/plain": [
              "<Figure size 432x288 with 1 Axes>"
            ]
          },
          "metadata": {
            "tags": [],
            "needs_background": "light"
          }
        }
      ]
    },
    {
      "cell_type": "markdown",
      "metadata": {
        "id": "khywrTswSq77",
        "colab_type": "text"
      },
      "source": [
        "Conditional RealNVP Flow"
      ]
    }
  ]
}