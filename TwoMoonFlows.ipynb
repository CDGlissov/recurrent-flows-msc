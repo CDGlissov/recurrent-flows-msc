{
  "nbformat": 4,
  "nbformat_minor": 0,
  "metadata": {
    "colab": {
      "name": "HalfMoonFlows.ipynb",
      "provenance": [],
      "collapsed_sections": []
    },
    "kernelspec": {
      "name": "python3",
      "display_name": "Python 3"
    },
    "accelerator": "GPU",
    "widgets": {
      "application/vnd.jupyter.widget-state+json": {
        "175c3415c0cf42c1b90a67da172a3208": {
          "model_module": "@jupyter-widgets/controls",
          "model_name": "HBoxModel",
          "state": {
            "_view_name": "HBoxView",
            "_dom_classes": [],
            "_model_name": "HBoxModel",
            "_view_module": "@jupyter-widgets/controls",
            "_model_module_version": "1.5.0",
            "_view_count": null,
            "_view_module_version": "1.5.0",
            "box_style": "",
            "layout": "IPY_MODEL_95d9013b59284a9886d600920fbf17ca",
            "_model_module": "@jupyter-widgets/controls",
            "children": [
              "IPY_MODEL_068c9a7b912548819c86a496f9c829d7",
              "IPY_MODEL_578046d2a2994b0b91a9777f6e23c08c"
            ]
          }
        },
        "95d9013b59284a9886d600920fbf17ca": {
          "model_module": "@jupyter-widgets/base",
          "model_name": "LayoutModel",
          "state": {
            "_view_name": "LayoutView",
            "grid_template_rows": null,
            "right": null,
            "justify_content": null,
            "_view_module": "@jupyter-widgets/base",
            "overflow": null,
            "_model_module_version": "1.2.0",
            "_view_count": null,
            "flex_flow": null,
            "width": null,
            "min_width": null,
            "border": null,
            "align_items": null,
            "bottom": null,
            "_model_module": "@jupyter-widgets/base",
            "top": null,
            "grid_column": null,
            "overflow_y": null,
            "overflow_x": null,
            "grid_auto_flow": null,
            "grid_area": null,
            "grid_template_columns": null,
            "flex": null,
            "_model_name": "LayoutModel",
            "justify_items": null,
            "grid_row": null,
            "max_height": null,
            "align_content": null,
            "visibility": null,
            "align_self": null,
            "height": null,
            "min_height": null,
            "padding": null,
            "grid_auto_rows": null,
            "grid_gap": null,
            "max_width": null,
            "order": null,
            "_view_module_version": "1.2.0",
            "grid_template_areas": null,
            "object_position": null,
            "object_fit": null,
            "grid_auto_columns": null,
            "margin": null,
            "display": null,
            "left": null
          }
        },
        "068c9a7b912548819c86a496f9c829d7": {
          "model_module": "@jupyter-widgets/controls",
          "model_name": "FloatProgressModel",
          "state": {
            "_view_name": "ProgressView",
            "style": "IPY_MODEL_a45f470fa2f24759bddbba00e0f7e270",
            "_dom_classes": [],
            "description": "Epoch: 100%",
            "_model_name": "FloatProgressModel",
            "bar_style": "",
            "max": 100,
            "_view_module": "@jupyter-widgets/controls",
            "_model_module_version": "1.5.0",
            "value": 100,
            "_view_count": null,
            "_view_module_version": "1.5.0",
            "orientation": "horizontal",
            "min": 0,
            "description_tooltip": null,
            "_model_module": "@jupyter-widgets/controls",
            "layout": "IPY_MODEL_775d3436c8c7442a8a2e4ba4134f4eb6"
          }
        },
        "578046d2a2994b0b91a9777f6e23c08c": {
          "model_module": "@jupyter-widgets/controls",
          "model_name": "HTMLModel",
          "state": {
            "_view_name": "HTMLView",
            "style": "IPY_MODEL_a8d4840772bd4b1d888fb0fc29621b30",
            "_dom_classes": [],
            "description": "",
            "_model_name": "HTMLModel",
            "placeholder": "​",
            "_view_module": "@jupyter-widgets/controls",
            "_model_module_version": "1.5.0",
            "value": " 100/100 [00:15&lt;00:00,  6.46it/s]",
            "_view_count": null,
            "_view_module_version": "1.5.0",
            "description_tooltip": null,
            "_model_module": "@jupyter-widgets/controls",
            "layout": "IPY_MODEL_96b09fd0b8dd4e35bd9123fd308db9d4"
          }
        },
        "a45f470fa2f24759bddbba00e0f7e270": {
          "model_module": "@jupyter-widgets/controls",
          "model_name": "ProgressStyleModel",
          "state": {
            "_view_name": "StyleView",
            "_model_name": "ProgressStyleModel",
            "description_width": "initial",
            "_view_module": "@jupyter-widgets/base",
            "_model_module_version": "1.5.0",
            "_view_count": null,
            "_view_module_version": "1.2.0",
            "bar_color": null,
            "_model_module": "@jupyter-widgets/controls"
          }
        },
        "775d3436c8c7442a8a2e4ba4134f4eb6": {
          "model_module": "@jupyter-widgets/base",
          "model_name": "LayoutModel",
          "state": {
            "_view_name": "LayoutView",
            "grid_template_rows": null,
            "right": null,
            "justify_content": null,
            "_view_module": "@jupyter-widgets/base",
            "overflow": null,
            "_model_module_version": "1.2.0",
            "_view_count": null,
            "flex_flow": null,
            "width": null,
            "min_width": null,
            "border": null,
            "align_items": null,
            "bottom": null,
            "_model_module": "@jupyter-widgets/base",
            "top": null,
            "grid_column": null,
            "overflow_y": null,
            "overflow_x": null,
            "grid_auto_flow": null,
            "grid_area": null,
            "grid_template_columns": null,
            "flex": null,
            "_model_name": "LayoutModel",
            "justify_items": null,
            "grid_row": null,
            "max_height": null,
            "align_content": null,
            "visibility": null,
            "align_self": null,
            "height": null,
            "min_height": null,
            "padding": null,
            "grid_auto_rows": null,
            "grid_gap": null,
            "max_width": null,
            "order": null,
            "_view_module_version": "1.2.0",
            "grid_template_areas": null,
            "object_position": null,
            "object_fit": null,
            "grid_auto_columns": null,
            "margin": null,
            "display": null,
            "left": null
          }
        },
        "a8d4840772bd4b1d888fb0fc29621b30": {
          "model_module": "@jupyter-widgets/controls",
          "model_name": "DescriptionStyleModel",
          "state": {
            "_view_name": "StyleView",
            "_model_name": "DescriptionStyleModel",
            "description_width": "",
            "_view_module": "@jupyter-widgets/base",
            "_model_module_version": "1.5.0",
            "_view_count": null,
            "_view_module_version": "1.2.0",
            "_model_module": "@jupyter-widgets/controls"
          }
        },
        "96b09fd0b8dd4e35bd9123fd308db9d4": {
          "model_module": "@jupyter-widgets/base",
          "model_name": "LayoutModel",
          "state": {
            "_view_name": "LayoutView",
            "grid_template_rows": null,
            "right": null,
            "justify_content": null,
            "_view_module": "@jupyter-widgets/base",
            "overflow": null,
            "_model_module_version": "1.2.0",
            "_view_count": null,
            "flex_flow": null,
            "width": null,
            "min_width": null,
            "border": null,
            "align_items": null,
            "bottom": null,
            "_model_module": "@jupyter-widgets/base",
            "top": null,
            "grid_column": null,
            "overflow_y": null,
            "overflow_x": null,
            "grid_auto_flow": null,
            "grid_area": null,
            "grid_template_columns": null,
            "flex": null,
            "_model_name": "LayoutModel",
            "justify_items": null,
            "grid_row": null,
            "max_height": null,
            "align_content": null,
            "visibility": null,
            "align_self": null,
            "height": null,
            "min_height": null,
            "padding": null,
            "grid_auto_rows": null,
            "grid_gap": null,
            "max_width": null,
            "order": null,
            "_view_module_version": "1.2.0",
            "grid_template_areas": null,
            "object_position": null,
            "object_fit": null,
            "grid_auto_columns": null,
            "margin": null,
            "display": null,
            "left": null
          }
        },
        "8ecad178b5794363bafe590dc8dc902c": {
          "model_module": "@jupyter-widgets/controls",
          "model_name": "HBoxModel",
          "state": {
            "_view_name": "HBoxView",
            "_dom_classes": [],
            "_model_name": "HBoxModel",
            "_view_module": "@jupyter-widgets/controls",
            "_model_module_version": "1.5.0",
            "_view_count": null,
            "_view_module_version": "1.5.0",
            "box_style": "",
            "layout": "IPY_MODEL_8dd367c828de46559dc3cb2f77a364ed",
            "_model_module": "@jupyter-widgets/controls",
            "children": [
              "IPY_MODEL_a48b593872c74af48cf2cdca77fbefb2",
              "IPY_MODEL_9d2f297c059641c3bca8814d7a8eb9a0"
            ]
          }
        },
        "8dd367c828de46559dc3cb2f77a364ed": {
          "model_module": "@jupyter-widgets/base",
          "model_name": "LayoutModel",
          "state": {
            "_view_name": "LayoutView",
            "grid_template_rows": null,
            "right": null,
            "justify_content": null,
            "_view_module": "@jupyter-widgets/base",
            "overflow": null,
            "_model_module_version": "1.2.0",
            "_view_count": null,
            "flex_flow": null,
            "width": null,
            "min_width": null,
            "border": null,
            "align_items": null,
            "bottom": null,
            "_model_module": "@jupyter-widgets/base",
            "top": null,
            "grid_column": null,
            "overflow_y": null,
            "overflow_x": null,
            "grid_auto_flow": null,
            "grid_area": null,
            "grid_template_columns": null,
            "flex": null,
            "_model_name": "LayoutModel",
            "justify_items": null,
            "grid_row": null,
            "max_height": null,
            "align_content": null,
            "visibility": null,
            "align_self": null,
            "height": null,
            "min_height": null,
            "padding": null,
            "grid_auto_rows": null,
            "grid_gap": null,
            "max_width": null,
            "order": null,
            "_view_module_version": "1.2.0",
            "grid_template_areas": null,
            "object_position": null,
            "object_fit": null,
            "grid_auto_columns": null,
            "margin": null,
            "display": null,
            "left": null
          }
        },
        "a48b593872c74af48cf2cdca77fbefb2": {
          "model_module": "@jupyter-widgets/controls",
          "model_name": "FloatProgressModel",
          "state": {
            "_view_name": "ProgressView",
            "style": "IPY_MODEL_41c8282c95fb46349f56ae138fe452a9",
            "_dom_classes": [],
            "description": "Epoch: 100%",
            "_model_name": "FloatProgressModel",
            "bar_style": "",
            "max": 200,
            "_view_module": "@jupyter-widgets/controls",
            "_model_module_version": "1.5.0",
            "value": 200,
            "_view_count": null,
            "_view_module_version": "1.5.0",
            "orientation": "horizontal",
            "min": 0,
            "description_tooltip": null,
            "_model_module": "@jupyter-widgets/controls",
            "layout": "IPY_MODEL_a2494811bbfb4d6ab78a13bf3ab301c3"
          }
        },
        "9d2f297c059641c3bca8814d7a8eb9a0": {
          "model_module": "@jupyter-widgets/controls",
          "model_name": "HTMLModel",
          "state": {
            "_view_name": "HTMLView",
            "style": "IPY_MODEL_20edc3f517784f81b0852bbea084b90c",
            "_dom_classes": [],
            "description": "",
            "_model_name": "HTMLModel",
            "placeholder": "​",
            "_view_module": "@jupyter-widgets/controls",
            "_model_module_version": "1.5.0",
            "value": " 200/200 [01:13&lt;00:00,  2.69it/s]",
            "_view_count": null,
            "_view_module_version": "1.5.0",
            "description_tooltip": null,
            "_model_module": "@jupyter-widgets/controls",
            "layout": "IPY_MODEL_c6c65af9727742c6b8abbaa88de3d9ec"
          }
        },
        "41c8282c95fb46349f56ae138fe452a9": {
          "model_module": "@jupyter-widgets/controls",
          "model_name": "ProgressStyleModel",
          "state": {
            "_view_name": "StyleView",
            "_model_name": "ProgressStyleModel",
            "description_width": "initial",
            "_view_module": "@jupyter-widgets/base",
            "_model_module_version": "1.5.0",
            "_view_count": null,
            "_view_module_version": "1.2.0",
            "bar_color": null,
            "_model_module": "@jupyter-widgets/controls"
          }
        },
        "a2494811bbfb4d6ab78a13bf3ab301c3": {
          "model_module": "@jupyter-widgets/base",
          "model_name": "LayoutModel",
          "state": {
            "_view_name": "LayoutView",
            "grid_template_rows": null,
            "right": null,
            "justify_content": null,
            "_view_module": "@jupyter-widgets/base",
            "overflow": null,
            "_model_module_version": "1.2.0",
            "_view_count": null,
            "flex_flow": null,
            "width": null,
            "min_width": null,
            "border": null,
            "align_items": null,
            "bottom": null,
            "_model_module": "@jupyter-widgets/base",
            "top": null,
            "grid_column": null,
            "overflow_y": null,
            "overflow_x": null,
            "grid_auto_flow": null,
            "grid_area": null,
            "grid_template_columns": null,
            "flex": null,
            "_model_name": "LayoutModel",
            "justify_items": null,
            "grid_row": null,
            "max_height": null,
            "align_content": null,
            "visibility": null,
            "align_self": null,
            "height": null,
            "min_height": null,
            "padding": null,
            "grid_auto_rows": null,
            "grid_gap": null,
            "max_width": null,
            "order": null,
            "_view_module_version": "1.2.0",
            "grid_template_areas": null,
            "object_position": null,
            "object_fit": null,
            "grid_auto_columns": null,
            "margin": null,
            "display": null,
            "left": null
          }
        },
        "20edc3f517784f81b0852bbea084b90c": {
          "model_module": "@jupyter-widgets/controls",
          "model_name": "DescriptionStyleModel",
          "state": {
            "_view_name": "StyleView",
            "_model_name": "DescriptionStyleModel",
            "description_width": "",
            "_view_module": "@jupyter-widgets/base",
            "_model_module_version": "1.5.0",
            "_view_count": null,
            "_view_module_version": "1.2.0",
            "_model_module": "@jupyter-widgets/controls"
          }
        },
        "c6c65af9727742c6b8abbaa88de3d9ec": {
          "model_module": "@jupyter-widgets/base",
          "model_name": "LayoutModel",
          "state": {
            "_view_name": "LayoutView",
            "grid_template_rows": null,
            "right": null,
            "justify_content": null,
            "_view_module": "@jupyter-widgets/base",
            "overflow": null,
            "_model_module_version": "1.2.0",
            "_view_count": null,
            "flex_flow": null,
            "width": null,
            "min_width": null,
            "border": null,
            "align_items": null,
            "bottom": null,
            "_model_module": "@jupyter-widgets/base",
            "top": null,
            "grid_column": null,
            "overflow_y": null,
            "overflow_x": null,
            "grid_auto_flow": null,
            "grid_area": null,
            "grid_template_columns": null,
            "flex": null,
            "_model_name": "LayoutModel",
            "justify_items": null,
            "grid_row": null,
            "max_height": null,
            "align_content": null,
            "visibility": null,
            "align_self": null,
            "height": null,
            "min_height": null,
            "padding": null,
            "grid_auto_rows": null,
            "grid_gap": null,
            "max_width": null,
            "order": null,
            "_view_module_version": "1.2.0",
            "grid_template_areas": null,
            "object_position": null,
            "object_fit": null,
            "grid_auto_columns": null,
            "margin": null,
            "display": null,
            "left": null
          }
        },
        "2db808fd851e4f3cb4756fd211760758": {
          "model_module": "@jupyter-widgets/controls",
          "model_name": "HBoxModel",
          "state": {
            "_view_name": "HBoxView",
            "_dom_classes": [],
            "_model_name": "HBoxModel",
            "_view_module": "@jupyter-widgets/controls",
            "_model_module_version": "1.5.0",
            "_view_count": null,
            "_view_module_version": "1.5.0",
            "box_style": "",
            "layout": "IPY_MODEL_c93e11402e184867bf3fbe68c1b53602",
            "_model_module": "@jupyter-widgets/controls",
            "children": [
              "IPY_MODEL_8bde3d0aa4764d74a6cb8b8c89731ef8",
              "IPY_MODEL_db9c098d66884f63909e06c1f2caac73"
            ]
          }
        },
        "c93e11402e184867bf3fbe68c1b53602": {
          "model_module": "@jupyter-widgets/base",
          "model_name": "LayoutModel",
          "state": {
            "_view_name": "LayoutView",
            "grid_template_rows": null,
            "right": null,
            "justify_content": null,
            "_view_module": "@jupyter-widgets/base",
            "overflow": null,
            "_model_module_version": "1.2.0",
            "_view_count": null,
            "flex_flow": null,
            "width": null,
            "min_width": null,
            "border": null,
            "align_items": null,
            "bottom": null,
            "_model_module": "@jupyter-widgets/base",
            "top": null,
            "grid_column": null,
            "overflow_y": null,
            "overflow_x": null,
            "grid_auto_flow": null,
            "grid_area": null,
            "grid_template_columns": null,
            "flex": null,
            "_model_name": "LayoutModel",
            "justify_items": null,
            "grid_row": null,
            "max_height": null,
            "align_content": null,
            "visibility": null,
            "align_self": null,
            "height": null,
            "min_height": null,
            "padding": null,
            "grid_auto_rows": null,
            "grid_gap": null,
            "max_width": null,
            "order": null,
            "_view_module_version": "1.2.0",
            "grid_template_areas": null,
            "object_position": null,
            "object_fit": null,
            "grid_auto_columns": null,
            "margin": null,
            "display": null,
            "left": null
          }
        },
        "8bde3d0aa4764d74a6cb8b8c89731ef8": {
          "model_module": "@jupyter-widgets/controls",
          "model_name": "FloatProgressModel",
          "state": {
            "_view_name": "ProgressView",
            "style": "IPY_MODEL_1680b6d3692d41a9a30b544103c590dd",
            "_dom_classes": [],
            "description": "ELBO: 4797.33: 100%",
            "_model_name": "FloatProgressModel",
            "bar_style": "success",
            "max": 1000,
            "_view_module": "@jupyter-widgets/controls",
            "_model_module_version": "1.5.0",
            "value": 1000,
            "_view_count": null,
            "_view_module_version": "1.5.0",
            "orientation": "horizontal",
            "min": 0,
            "description_tooltip": null,
            "_model_module": "@jupyter-widgets/controls",
            "layout": "IPY_MODEL_cf44c2c0a02441d19b4accf909fb1506"
          }
        },
        "db9c098d66884f63909e06c1f2caac73": {
          "model_module": "@jupyter-widgets/controls",
          "model_name": "HTMLModel",
          "state": {
            "_view_name": "HTMLView",
            "style": "IPY_MODEL_4496beb693d44d239f630043a52c7516",
            "_dom_classes": [],
            "description": "",
            "_model_name": "HTMLModel",
            "placeholder": "​",
            "_view_module": "@jupyter-widgets/controls",
            "_model_module_version": "1.5.0",
            "value": " 1000/1000 [09:51&lt;00:00,  1.69it/s]",
            "_view_count": null,
            "_view_module_version": "1.5.0",
            "description_tooltip": null,
            "_model_module": "@jupyter-widgets/controls",
            "layout": "IPY_MODEL_18efd2c98cdd498781dae168e48fa7ff"
          }
        },
        "1680b6d3692d41a9a30b544103c590dd": {
          "model_module": "@jupyter-widgets/controls",
          "model_name": "ProgressStyleModel",
          "state": {
            "_view_name": "StyleView",
            "_model_name": "ProgressStyleModel",
            "description_width": "initial",
            "_view_module": "@jupyter-widgets/base",
            "_model_module_version": "1.5.0",
            "_view_count": null,
            "_view_module_version": "1.2.0",
            "bar_color": null,
            "_model_module": "@jupyter-widgets/controls"
          }
        },
        "cf44c2c0a02441d19b4accf909fb1506": {
          "model_module": "@jupyter-widgets/base",
          "model_name": "LayoutModel",
          "state": {
            "_view_name": "LayoutView",
            "grid_template_rows": null,
            "right": null,
            "justify_content": null,
            "_view_module": "@jupyter-widgets/base",
            "overflow": null,
            "_model_module_version": "1.2.0",
            "_view_count": null,
            "flex_flow": null,
            "width": null,
            "min_width": null,
            "border": null,
            "align_items": null,
            "bottom": null,
            "_model_module": "@jupyter-widgets/base",
            "top": null,
            "grid_column": null,
            "overflow_y": null,
            "overflow_x": null,
            "grid_auto_flow": null,
            "grid_area": null,
            "grid_template_columns": null,
            "flex": null,
            "_model_name": "LayoutModel",
            "justify_items": null,
            "grid_row": null,
            "max_height": null,
            "align_content": null,
            "visibility": null,
            "align_self": null,
            "height": null,
            "min_height": null,
            "padding": null,
            "grid_auto_rows": null,
            "grid_gap": null,
            "max_width": null,
            "order": null,
            "_view_module_version": "1.2.0",
            "grid_template_areas": null,
            "object_position": null,
            "object_fit": null,
            "grid_auto_columns": null,
            "margin": null,
            "display": null,
            "left": null
          }
        },
        "4496beb693d44d239f630043a52c7516": {
          "model_module": "@jupyter-widgets/controls",
          "model_name": "DescriptionStyleModel",
          "state": {
            "_view_name": "StyleView",
            "_model_name": "DescriptionStyleModel",
            "description_width": "",
            "_view_module": "@jupyter-widgets/base",
            "_model_module_version": "1.5.0",
            "_view_count": null,
            "_view_module_version": "1.2.0",
            "_model_module": "@jupyter-widgets/controls"
          }
        },
        "18efd2c98cdd498781dae168e48fa7ff": {
          "model_module": "@jupyter-widgets/base",
          "model_name": "LayoutModel",
          "state": {
            "_view_name": "LayoutView",
            "grid_template_rows": null,
            "right": null,
            "justify_content": null,
            "_view_module": "@jupyter-widgets/base",
            "overflow": null,
            "_model_module_version": "1.2.0",
            "_view_count": null,
            "flex_flow": null,
            "width": null,
            "min_width": null,
            "border": null,
            "align_items": null,
            "bottom": null,
            "_model_module": "@jupyter-widgets/base",
            "top": null,
            "grid_column": null,
            "overflow_y": null,
            "overflow_x": null,
            "grid_auto_flow": null,
            "grid_area": null,
            "grid_template_columns": null,
            "flex": null,
            "_model_name": "LayoutModel",
            "justify_items": null,
            "grid_row": null,
            "max_height": null,
            "align_content": null,
            "visibility": null,
            "align_self": null,
            "height": null,
            "min_height": null,
            "padding": null,
            "grid_auto_rows": null,
            "grid_gap": null,
            "max_width": null,
            "order": null,
            "_view_module_version": "1.2.0",
            "grid_template_areas": null,
            "object_position": null,
            "object_fit": null,
            "grid_auto_columns": null,
            "margin": null,
            "display": null,
            "left": null
          }
        }
      }
    }
  },
  "cells": [
    {
      "cell_type": "code",
      "metadata": {
        "id": "ajHG74_-FUFn",
        "colab_type": "code",
        "colab": {
          "base_uri": "https://localhost:8080/",
          "height": 343
        },
        "outputId": "4df6b999-90fe-4d67-c406-3eb08c7a2183"
      },
      "source": [
        "!if [ -d deepflows ]; then rm -Rf deepflows; fi\n",
        "!git clone https://github.com/CDGlissov/recurrent-flows-msc.git deepflows\n",
        "!pip install \"./deepflows\""
      ],
      "execution_count": 7,
      "outputs": [
        {
          "output_type": "stream",
          "text": [
            "Cloning into 'deepflows'...\n",
            "remote: Enumerating objects: 95, done.\u001b[K\n",
            "remote: Counting objects: 100% (95/95), done.\u001b[K\n",
            "remote: Compressing objects: 100% (88/88), done.\u001b[K\n",
            "remote: Total 95 (delta 37), reused 0 (delta 0), pack-reused 0\u001b[K\n",
            "Unpacking objects: 100% (95/95), done.\n",
            "Processing ./deepflows\n",
            "Requirement already satisfied: numpy in /usr/local/lib/python3.6/dist-packages (from recurrent-flows-msc==0.1.0) (1.18.5)\n",
            "Building wheels for collected packages: recurrent-flows-msc\n",
            "  Building wheel for recurrent-flows-msc (setup.py) ... \u001b[?25l\u001b[?25hdone\n",
            "  Created wheel for recurrent-flows-msc: filename=recurrent_flows_msc-0.1.0-cp36-none-any.whl size=1121 sha256=8be0682d2442c3bac40cf3918820350818fa43e5d03729de3d61b02753efce84\n",
            "  Stored in directory: /tmp/pip-ephem-wheel-cache-a2pm2wpd/wheels/f0/5a/77/8518120597d432632c6abe1aa892d29d8c308fccf620551d65\n",
            "Successfully built recurrent-flows-msc\n",
            "Installing collected packages: recurrent-flows-msc\n",
            "  Found existing installation: recurrent-flows-msc 0.1.0\n",
            "    Uninstalling recurrent-flows-msc-0.1.0:\n",
            "      Successfully uninstalled recurrent-flows-msc-0.1.0\n",
            "Successfully installed recurrent-flows-msc-0.1.0\n"
          ],
          "name": "stdout"
        }
      ]
    },
    {
      "cell_type": "code",
      "metadata": {
        "id": "yUyY1L0iPUeO",
        "colab_type": "code",
        "colab": {}
      },
      "source": [
        "!pip install pyro-ppl"
      ],
      "execution_count": null,
      "outputs": []
    },
    {
      "cell_type": "code",
      "metadata": {
        "id": "F1hiBZmjFbre",
        "colab_type": "code",
        "colab": {}
      },
      "source": [
        "import torch\n",
        "import torch.optim as optim\n",
        "import torch.utils.data as Data  \n",
        "import torch.nn as nn\n",
        "import torch.nn.functional as F\n",
        "import torch.distributions as td\n",
        "import numpy as np\n",
        "import itertools\n",
        "from tqdm.notebook import trange, tqdm\n",
        "import torchvision\n",
        "\n",
        "import pyro\n",
        "from pyro.nn.dense_nn import ConditionalDenseNN\n",
        "from pyro.distributions.transforms import permute, BatchNorm\n",
        "from pyro.distributions.transforms.affine_coupling import ConditionalAffineCoupling\n",
        "from pyro.infer import SVI, Trace_ELBO\n",
        "\n",
        "from deepflows import utils\n",
        "from deepflows import plot_tools\n",
        "from deepflows.data_generators.halfmoon import * "
      ],
      "execution_count": 1,
      "outputs": []
    },
    {
      "cell_type": "code",
      "metadata": {
        "id": "WvNebA1_KcAF",
        "colab_type": "code",
        "colab": {
          "base_uri": "https://localhost:8080/",
          "height": 34
        },
        "outputId": "08e58a19-1224-4d82-8ee5-0b59cad00847"
      },
      "source": [
        "device=utils.set_gpu(True)\n",
        "rtcs = RotatingTwoMoonsConditionalSampler()\n",
        "\n",
        "# Load unconditional data\n",
        "train_set, train_label = rtcs.conditioned_sample(1000, theta=torch.tensor([0]))\n",
        "test_set, test_label = rtcs.conditioned_sample(2000, theta=torch.tensor([0]))\n",
        "train_loader, test_loader = loader_half_moons(train_set, test_set, batch_size=64)\n"
      ],
      "execution_count": 2,
      "outputs": [
        {
          "output_type": "stream",
          "text": [
            "Note: GPU is available\n"
          ],
          "name": "stdout"
        }
      ]
    },
    {
      "cell_type": "code",
      "metadata": {
        "id": "8AHMEkx8Njyv",
        "colab_type": "code",
        "colab": {}
      },
      "source": [
        "def train(model, train_loader, optimizer):\n",
        "  losses = []\n",
        "  model.train()\n",
        "  for x in train_loader:\n",
        "    x = x.to(device).float()\n",
        "    loss = model.nll(x)\n",
        "    optimizer.zero_grad()\n",
        "    loss.backward()\n",
        "    optimizer.step()\n",
        "    losses.append(loss.item())\n",
        "  return losses\n",
        "\n",
        "def evaluate(model, validation_loader):\n",
        "  model.eval()\n",
        "  total_loss=0\n",
        "  n = len(validation_loader.dataset)\n",
        "  with torch.no_grad():\n",
        "    for x in validation_loader:\n",
        "      x = x.to(device).float()\n",
        "      loss = model.nll(x)\n",
        "      total_loss += loss * x.shape[0]\n",
        "    avg_loss = total_loss / n\n",
        "  return avg_loss.item()\n",
        "\n",
        "def run_model(model, train_loader, validation_loader, train_args):\n",
        "    epochs, lr = train_args['epochs'], train_args['lr']\n",
        "    optimizer = optim.Adam(model.parameters(), lr=lr)\n",
        "    train_losses, test_losses = [], []\n",
        "    \n",
        "    #Init loss:\n",
        "    test_loss = evaluate(model, validation_loader)\n",
        "    test_losses.append(test_loss)  \n",
        "\n",
        "    for epoch in tqdm(range(epochs), desc='Epoch', leave=False):\n",
        "        model.train()\n",
        "        epoch_train_losses = train(model, train_loader, optimizer) \n",
        "        train_losses.extend(epoch_train_losses)\n",
        "\n",
        "        test_loss = evaluate(model, validation_loader)\n",
        "        test_losses.append(test_loss)\n",
        "            \n",
        "    return train_losses, test_losses\n",
        "\n",
        "class MLP(nn.Module):\n",
        "    def __init__(self, input_dim, n_layers, hidden_dim, output_dim):\n",
        "        super(MLP, self).__init__()\n",
        "        layers = []\n",
        "        for _ in range(n_layers):\n",
        "          layers.append(nn.Linear(input_dim, hidden_dim))\n",
        "          layers.append(nn.ReLU())\n",
        "          input_dim = hidden_dim\n",
        "        layers.append(nn.Linear(hidden_dim, output_dim))\n",
        "        self.layers = nn.Sequential(*layers)\n",
        "\n",
        "    def forward(self, x):\n",
        "      return self.layers(x)"
      ],
      "execution_count": 10,
      "outputs": []
    },
    {
      "cell_type": "markdown",
      "metadata": {
        "id": "qrv5qV1GOQfC",
        "colab_type": "text"
      },
      "source": [
        "## Autoregressive Model"
      ]
    },
    {
      "cell_type": "code",
      "metadata": {
        "id": "LyY3AV74OMHt",
        "colab_type": "code",
        "colab": {}
      },
      "source": [
        "'''\n",
        "Here we make the mixtures\n",
        "https://en.wikipedia.org/wiki/Mixture_model\n",
        "[Batch_size, n_component, loc]\n",
        "'''\n",
        "class MixtureCDF(nn.Module):\n",
        "    def __init__(self, n_components):\n",
        "        super(MixtureCDF, self).__init__()\n",
        "        self.loc = nn.Parameter(torch.randn(n_components), requires_grad=True)\n",
        "        self.log_scale = nn.Parameter(torch.zeros(n_components), requires_grad=True)\n",
        "        self.weight_logits = nn.Parameter(torch.zeros(n_components), requires_grad=True)\n",
        "        self.n_components = n_components\n",
        "\n",
        "    def flow(self, x):\n",
        "        weights = F.softmax(self.weight_logits, dim=0).unsqueeze(0).repeat(x.shape[0], 1)\n",
        "        # cdf of x\n",
        "        z = (td.Normal(self.loc, self.log_scale.exp()).cdf(\n",
        "            x.unsqueeze(1).repeat(1, self.n_components))*weights).sum(dim=1)\n",
        "        # log_det = log dz/dx = log pdf(x)\n",
        "        log_det = (td.Normal(self.loc, self.log_scale.exp()).log_prob(\n",
        "            x.unsqueeze(1).repeat(1, self.n_components)).exp()*weights).sum(dim=1).log()\n",
        "        return z, log_det\n",
        "\n",
        "    def log_prob(self, x):\n",
        "        z, log_det = self.flow(x)\n",
        "        return td.Uniform(0.0, 1.0).log_prob(z) + log_det\n",
        " \n",
        "    # Compute loss as negative log-likelihood\n",
        "    def nll(self, x):\n",
        "        return -self.log_prob(x).mean()\n",
        "\n",
        "class AutoregFlow(nn.Module):\n",
        "    def __init__(self):\n",
        "        super(AutoregFlow, self).__init__()\n",
        "        self.components = 5\n",
        "        self.dim1_flow = MixtureCDF(n_components=self.components).to(device)\n",
        "        self.mlp = MLP(1, 3, 64, self.components * 3).to(device)\n",
        "\n",
        "    def flow(self, x):\n",
        "      #split into chunks\n",
        "      x1, x2 = torch.chunk(x, 2, dim=1)\n",
        "\n",
        "      #Dimension 1, x1, find parameters\n",
        "      z1, log_det1 = self.dim1_flow.flow(x1.squeeze())\n",
        "      loc, log_scale, weight_logits = torch.chunk(self.mlp(x1), 3, dim=1)\n",
        "      \n",
        "      #Use parameters to generate z2\n",
        "      weights = F.softmax(weight_logits, dim=1)\n",
        "      z2 = (td.Normal(loc, log_scale.exp()).cdf(\n",
        "            x2.repeat(1, self.components)) * weights).sum(dim=1)\n",
        "      log_det2 = (td.Normal(loc, log_scale.exp()).log_prob(\n",
        "          x2.repeat(1, self.components)).exp() * weights).sum(dim=1).log()\n",
        "      \n",
        "      #return z1/z2 and the determinant for the log_prob function\n",
        "      return (torch.cat([z1.unsqueeze(1), z2.unsqueeze(1)], dim=1), \n",
        "       torch.cat([log_det1.unsqueeze(1), log_det2.unsqueeze(1)], dim=1))\n",
        "\n",
        "    def log_prob(self, x):\n",
        "        z, log_det = self.flow(x)\n",
        "        return (td.Uniform(utils.tensor(0.0), utils.tensor(1.0)).log_prob(z) + log_det).mean(dim=1) # shape: [batch_size, dim]\n",
        "\n",
        "    def nll(self, x):\n",
        "      return - self.log_prob(x).mean()"
      ],
      "execution_count": 11,
      "outputs": []
    },
    {
      "cell_type": "code",
      "metadata": {
        "id": "Wcp95k0KOMUq",
        "colab_type": "code",
        "colab": {
          "base_uri": "https://localhost:8080/",
          "height": 17,
          "referenced_widgets": [
            "175c3415c0cf42c1b90a67da172a3208",
            "95d9013b59284a9886d600920fbf17ca",
            "068c9a7b912548819c86a496f9c829d7",
            "578046d2a2994b0b91a9777f6e23c08c",
            "a45f470fa2f24759bddbba00e0f7e270",
            "775d3436c8c7442a8a2e4ba4134f4eb6",
            "a8d4840772bd4b1d888fb0fc29621b30",
            "96b09fd0b8dd4e35bd9123fd308db9d4"
          ]
        },
        "outputId": "f7c18bdc-7b2b-4e9a-9aa9-327177423c5e"
      },
      "source": [
        "ar_flow = AutoregFlow()\n",
        "train_losses, test_losses = run_model(ar_flow, train_loader, test_loader, dict(epochs=100, lr=5e-3))"
      ],
      "execution_count": 5,
      "outputs": [
        {
          "output_type": "display_data",
          "data": {
            "application/vnd.jupyter.widget-view+json": {
              "model_id": "175c3415c0cf42c1b90a67da172a3208",
              "version_minor": 0,
              "version_major": 2
            },
            "text/plain": [
              "HBox(children=(FloatProgress(value=0.0, description='Epoch', style=ProgressStyle(description_width='initial'))…"
            ]
          },
          "metadata": {
            "tags": []
          }
        },
        {
          "output_type": "stream",
          "text": [
            "\r"
          ],
          "name": "stdout"
        }
      ]
    },
    {
      "cell_type": "code",
      "metadata": {
        "id": "6yacxWbeOrEA",
        "colab_type": "code",
        "colab": {
          "base_uri": "https://localhost:8080/",
          "height": 295
        },
        "outputId": "e449c0f8-7564-453e-b3d4-4e533dbb8754"
      },
      "source": [
        "plot_tools.show_2d_heatmap(ar_flow.log_prob, device, title=\"Autoregressive flow density map\")"
      ],
      "execution_count": 6,
      "outputs": [
        {
          "output_type": "display_data",
          "data": {
            "image/png": "[encoded data removed]",
            "text/plain": [
              "<Figure size 432x288 with 1 Axes>"
            ]
          },
          "metadata": {
            "tags": [],
            "needs_background": "light"
          }
        }
      ]
    },
    {
      "cell_type": "markdown",
      "metadata": {
        "id": "uS0oooAXSGKn",
        "colab_type": "text"
      },
      "source": [
        "## RealNVP Flow"
      ]
    },
    {
      "cell_type": "code",
      "metadata": {
        "id": "ChAMVTW1SFlI",
        "colab_type": "code",
        "colab": {}
      },
      "source": [
        "class AffineCoupling(nn.Module):\n",
        "    def __init__(self, type, n_layers=2, hidden_dim=64):\n",
        "        super(AffineCoupling, self).__init__()\n",
        "        self.mask = self.create_mask(type=type)\n",
        "        self.mlp = MLP(input_dim=2, n_layers=n_layers, hidden_dim=hidden_dim, output_dim=2).to(device)\n",
        "    \n",
        "    def create_mask(self, type):\n",
        "      if type == \"x_dim\":\n",
        "        mask = torch.FloatTensor([1.0, 0.0]).to(device)\n",
        "      elif type == \"y_dim\":\n",
        "        mask = torch.FloatTensor([0.0, 1.0]).to(device)\n",
        "      else:\n",
        "        print(\"Wrong type\")\n",
        "      return mask\n",
        "\n",
        "    def forward(self, x, reverse=False):\n",
        "        batch_size = x.shape[0]\n",
        "        b = self.mask.repeat(batch_size, 1)\n",
        "        x_mask = x * b\n",
        "        output=self.mlp(x_mask)\n",
        "\n",
        "        log_s, t = output.split(1, dim=1)\n",
        "\n",
        "        t = t * (1.0 - b)\n",
        "        log_s = log_s * (1.0 - b)\n",
        "\n",
        "        if reverse:\n",
        "            x = (x - t) * torch.exp(-log_s)\n",
        "        else:\n",
        "            x = x * torch.exp(log_s) + t\n",
        "        return x, log_s\n",
        "\n",
        "class RealNVP(nn.Module):\n",
        "    def __init__(self, \n",
        "                 transforms):\n",
        "        super().__init__()\n",
        "\n",
        "        self.prior = torch.distributions.Normal(torch.tensor(0.).to(device), torch.tensor(1.).to(device))\n",
        "        self.transforms = nn.ModuleList(transforms)\n",
        "    \n",
        "    def flow(self, x): #f\n",
        "        # maps x -> z\n",
        "        z, log_det = x, torch.zeros_like(x)\n",
        "        for op in self.transforms:\n",
        "            z, delta_log_det = op.forward(z)\n",
        "            log_det += delta_log_det\n",
        "        return z, log_det\n",
        "\n",
        "    def invert_flow(self, z): #g\n",
        "        # z -> x (inverse of f)\n",
        "        for op in reversed(self.transforms):\n",
        "            z, _ = op.forward(z, reverse=True)\n",
        "        return z\n",
        "\n",
        "    def log_prob(self, x):\n",
        "        z, log_det = self.flow(x)\n",
        "        return torch.sum(log_det, dim=1) + torch.sum(self.prior.log_prob(z), dim=1)\n",
        "\n",
        "    def sample(self, num_samples):\n",
        "        z = self.prior.sample([num_samples, 2])\n",
        "        return self.invert_flow(z)\n",
        "\n",
        "    def nll(self, x):\n",
        "        return - self.log_prob(x).mean()"
      ],
      "execution_count": null,
      "outputs": []
    },
    {
      "cell_type": "code",
      "metadata": {
        "id": "i8ZuZbCYSShw",
        "colab_type": "code",
        "colab": {
          "base_uri": "https://localhost:8080/",
          "height": 17,
          "referenced_widgets": [
            "8ecad178b5794363bafe590dc8dc902c",
            "8dd367c828de46559dc3cb2f77a364ed",
            "a48b593872c74af48cf2cdca77fbefb2",
            "9d2f297c059641c3bca8814d7a8eb9a0",
            "41c8282c95fb46349f56ae138fe452a9",
            "a2494811bbfb4d6ab78a13bf3ab301c3",
            "20edc3f517784f81b0852bbea084b90c",
            "c6c65af9727742c6b8abbaa88de3d9ec"
          ]
        },
        "outputId": "164a29c5-5b82-4d7f-b763-38e8df9bcc75"
      },
      "source": [
        "RNVP_flow = RealNVP([AffineCoupling(\"y_dim\", n_layers=2, hidden_dim=64),\n",
        "                    AffineCoupling(\"x_dim\", n_layers=2, hidden_dim=64),\n",
        "                    AffineCoupling(\"y_dim\", n_layers=2, hidden_dim=64),\n",
        "                    AffineCoupling(\"x_dim\", n_layers=2, hidden_dim=64),\n",
        "                    AffineCoupling(\"y_dim\", n_layers=2, hidden_dim=64),\n",
        "                    AffineCoupling(\"x_dim\", n_layers=2, hidden_dim=64)])\n",
        "train_losses, test_losses = run_model(RNVP_flow, train_loader, test_loader, dict(epochs=200, lr=5e-3))"
      ],
      "execution_count": null,
      "outputs": [
        {
          "output_type": "display_data",
          "data": {
            "application/vnd.jupyter.widget-view+json": {
              "model_id": "8ecad178b5794363bafe590dc8dc902c",
              "version_minor": 0,
              "version_major": 2
            },
            "text/plain": [
              "HBox(children=(FloatProgress(value=0.0, description='Epoch', max=200.0, style=ProgressStyle(description_width=…"
            ]
          },
          "metadata": {
            "tags": []
          }
        },
        {
          "output_type": "stream",
          "text": [
            "\r"
          ],
          "name": "stdout"
        }
      ]
    },
    {
      "cell_type": "code",
      "metadata": {
        "id": "HarPvWt3SUvm",
        "colab_type": "code",
        "colab": {
          "base_uri": "https://localhost:8080/",
          "height": 295
        },
        "outputId": "cc3cc581-a889-4016-e8f2-f2c597135e3b"
      },
      "source": [
        "plot_tools.show_2d_heatmap(RNVP_flow.log_prob, device, title=\"Autoregressive flow density map\")"
      ],
      "execution_count": null,
      "outputs": [
        {
          "output_type": "display_data",
          "data": {
            "image/png": "[encoded data removed]",
            "text/plain": [
              "<Figure size 432x288 with 1 Axes>"
            ]
          },
          "metadata": {
            "tags": [],
            "needs_background": "light"
          }
        }
      ]
    },
    {
      "cell_type": "markdown",
      "metadata": {
        "id": "khywrTswSq77",
        "colab_type": "text"
      },
      "source": [
        "Conditional RealNVP Flow in Pyro"
      ]
    },
    {
      "cell_type": "markdown",
      "metadata": {
        "id": "TS2pkoFFtghz",
        "colab_type": "text"
      },
      "source": [
        "Credit to Daniele Gammelli: https://github.com/DanieleGammelli/pyro-torch-normalizing-flows/blob/master/ConditionalNF.ipynb"
      ]
    },
    {
      "cell_type": "code",
      "metadata": {
        "id": "WUm6kmXlEI1w",
        "colab_type": "code",
        "colab": {}
      },
      "source": [
        "# Get data\n",
        "x_gu = torch.zeros((10, 1000, 2))\n",
        "u = torch.zeros((10, 1000, 1))\n",
        "npi = np.linspace(0, 2, 10)\n",
        "for i, pi in enumerate(npi):\n",
        "    rtcs = RotatingTwoMoonsConditionalSampler(noise=0.05)\n",
        "    x, _ = rtcs.conditioned_sample(1000, theta=torch.tensor([np.pi * pi]))\n",
        "    u[i] = torch.zeros(1000,1) + i\n",
        "    x_gu[i] = x\n",
        "\n",
        "class TwoMoonData(torch.utils.data.Dataset):\n",
        "    def __init__(self, x, u):\n",
        "        super(TwoMoonData, self).__init__()\n",
        "        self.x = x\n",
        "        self.u = u\n",
        "        \n",
        "    def __len__(self):\n",
        "        return len(self.x)\n",
        "\n",
        "    def __getitem__(self, idx):\n",
        "        if torch.is_tensor(idx):\n",
        "            idx = idx.tolist()\n",
        "\n",
        "        return self.x[idx], self.u[idx]\n",
        "\n",
        "dataset = TwoMoonData(x_gu.view(-1,2), u.view(-1,1))\n",
        "train_loader = torch.utils.data.DataLoader(dataset, batch_size=1000,\n",
        "                        shuffle=True, num_workers=0)"
      ],
      "execution_count": 106,
      "outputs": []
    },
    {
      "cell_type": "code",
      "metadata": {
        "id": "XubCvaCUEI5K",
        "colab_type": "code",
        "colab": {}
      },
      "source": [
        "class ConditionalRealNVP(nn.Module):\n",
        "  def __init__(self, device, input_dim = 2, split_dim = 1, context_dim = 1, hidden_dim = 64, n_layers=5, n_transforms=16):\n",
        "    super(ConditionalRealNVP, self).__init__()\n",
        "    #sample latent\n",
        "    self.base_dist = td.Normal(torch.zeros(input_dim).to(device), torch.ones(input_dim).to(device)) #[2]\n",
        "    #defining couplings. We need 1 parameter for each input_dim\n",
        "    self.param_dims = [input_dim - split_dim, input_dim - split_dim]\n",
        "    self.transforms = ([ConditionalAffineCoupling(split_dim, ConditionalDenseNN(split_dim, context_dim, \n",
        "                      [hidden_dim]*n_layers, self.param_dims)).to(device) for _ in range(n_transforms)])\n",
        "    self.permutations = [permute(2, self.create_mask(i)) for i in range(n_transforms)]\n",
        "    self.batch_norm = [BatchNorm(input_dim=1).to(device) for _ in range(n_transforms)]\n",
        "    # Concatenate and unpack everything into a list, generative direction (z-->x)\n",
        "    # remove last two permute and batch_norm\n",
        "    self.generative_flows = list(itertools.chain(*zip(self.transforms, self.batch_norm, self.permutations)))[:-2] \n",
        "    # normalizing direction (x-->z), we reverse\n",
        "    self.normalizing_flows = self.generative_flows[::-1]\n",
        "\n",
        "  def create_mask(self, x):\n",
        "    if x % 2 == 0:\n",
        "      mask = torch.tensor([1, 0]).to(device)\n",
        "    else:\n",
        "      mask = torch.tensor([0, 1]).to(device)\n",
        "    return mask\n",
        "\n",
        "  def model(self, x=None, u=None):\n",
        "    n = len(x) if x is not None else None\n",
        "    pyro.module(\"nf\", nn.ModuleList(self.transforms))\n",
        "    with pyro.plate(\"data\", n):\n",
        "            self.cond_flow_dist = self.condition(u)\n",
        "            obs = pyro.sample(\"obs\", self.cond_flow_dist, obs=x)\n",
        "\n",
        "  def condition(self, u):\n",
        "    self.cond_transforms = [t.condition(u) for t in self.transforms]\n",
        "    self.generative_flows = list(itertools.chain(*zip(self.cond_transforms, self.permutations)))[:-1]\n",
        "    self.normalizing_flows = self.generative_flows[::-1]\n",
        "    \n",
        "    return TransformedDistribution(self.base_dist, self.generative_flows)\n",
        "\n",
        "  def guide(self, x=None, u=None):\n",
        "      pass\n",
        "  \n",
        "  def forward(self, z, u):\n",
        "      zs = [z]\n",
        "      _ = self.condition(u)\n",
        "      for flow in self.generative_flows:\n",
        "          z_i = flow(zs[-1])\n",
        "          zs.append(z_i)\n",
        "      return zs, z_i\n",
        "  \n",
        "  def backward(self, x, u):\n",
        "      zs = [x]\n",
        "      _ = self.condition(u)\n",
        "      for flow in self.normalizing_flows:\n",
        "          z_i = flow._inverse(zs[-1])\n",
        "          zs.append(z_i)\n",
        "      return zs, z_i\n",
        "  \n",
        "  def sample(self, num_samples, u):\n",
        "      z_0_samples = self.base_dist.sample([num_samples])\n",
        "      zs, x = self.forward(z_0_samples, u)\n",
        "      return x\n",
        "  \n",
        "  def log_prob(self, x, u):\n",
        "      cond_flow_dist = self.condition(u)\n",
        "      return cond_flow_dist.log_prob(x)"
      ],
      "execution_count": 107,
      "outputs": []
    },
    {
      "cell_type": "code",
      "metadata": {
        "id": "tNkozFbDEIxo",
        "colab_type": "code",
        "colab": {}
      },
      "source": [
        "# Initialize model\n",
        "cnf=ConditionalRealNVP(device)\n",
        "\n",
        "# TODO: make a learning rate scheduler\n",
        "optimizer = pyro.optim.Adam({\"lr\": 0.0001})\n",
        "svi = SVI(cnf.model, cnf.guide, optimizer, Trace_ELBO(num_particles=1))\n"
      ],
      "execution_count": 112,
      "outputs": []
    },
    {
      "cell_type": "code",
      "metadata": {
        "id": "sw07WHxqgvYJ",
        "colab_type": "code",
        "colab": {
          "base_uri": "https://localhost:8080/",
          "height": 66,
          "referenced_widgets": [
            "2db808fd851e4f3cb4756fd211760758",
            "c93e11402e184867bf3fbe68c1b53602",
            "8bde3d0aa4764d74a6cb8b8c89731ef8",
            "db9c098d66884f63909e06c1f2caac73",
            "1680b6d3692d41a9a30b544103c590dd",
            "cf44c2c0a02441d19b4accf909fb1506",
            "4496beb693d44d239f630043a52c7516",
            "18efd2c98cdd498781dae168e48fa7ff"
          ]
        },
        "outputId": "e3094af8-e5f1-4f95-f494-b3097a54a46b"
      },
      "source": [
        "num_epochs = 1000\n",
        "losses = []\n",
        "pyro.clear_param_store()\n",
        "epochs = trange(num_epochs)\n",
        "\n",
        "for epoch in epochs:\n",
        "    try:\n",
        "        running_loss = 0\n",
        "        for x_batch, u_batch in train_loader:\n",
        "            x_batch, u_batch = x_batch.to(device), u_batch.to(device)\n",
        "            loss = svi.step(x_batch, u_batch)\n",
        "            running_loss += float(loss)\n",
        "        losses.append(running_loss)\n",
        "        epochs.set_description(\"ELBO: {:.2f}\".format(running_loss))\n",
        "    except KeyboardInterrupt:\n",
        "        plt.plot(losses);\n",
        "        break"
      ],
      "execution_count": 113,
      "outputs": [
        {
          "output_type": "display_data",
          "data": {
            "application/vnd.jupyter.widget-view+json": {
              "model_id": "2db808fd851e4f3cb4756fd211760758",
              "version_minor": 0,
              "version_major": 2
            },
            "text/plain": [
              "HBox(children=(FloatProgress(value=0.0, max=1000.0), HTML(value='')))"
            ]
          },
          "metadata": {
            "tags": []
          }
        },
        {
          "output_type": "stream",
          "text": [
            "\n"
          ],
          "name": "stdout"
        }
      ]
    },
    {
      "cell_type": "code",
      "metadata": {
        "id": "F0ht_iq50RQJ",
        "colab_type": "code",
        "colab": {
          "base_uri": "https://localhost:8080/",
          "height": 499
        },
        "outputId": "f8e56ca0-06a0-44d7-be0d-0c1cdbab4818"
      },
      "source": [
        "fig, ax = plt.subplots(3, 3, figsize=(10,8))\n",
        "\n",
        "j=0\n",
        "k=0\n",
        "for i in range(3*3):\n",
        "    samples = cnf.sample(num_samples=1000, u=(torch.zeros(1000, 1)+i).to(device)).detach().cpu()\n",
        "    ax[k, j].scatter(x_gu[i, :, 0], x_gu[i, :, 1], c=\"b\", label=\"data\", alpha=0.8, s=2)\n",
        "    ax[k, j].scatter(samples[:, 0], samples[:, 1], c=\"r\", alpha=0.5, label=\"f(z) to x\", s=2)\n",
        "    ax[k, j].set_title(\"Moon \" + str(i))\n",
        "    j+=1\n",
        "    if (j % 3 == 0) and (i != 0):\n",
        "      j=0\n",
        "      k+=1\n",
        "ax[0, 0].legend();"
      ],
      "execution_count": 114,
      "outputs": [
        {
          "output_type": "display_data",
          "data": {
            "image/png": "[encoded data removed]",
            "text/plain": [
              "<Figure size 720x576 with 9 Axes>"
            ]
          },
          "metadata": {
            "tags": [],
            "needs_background": "light"
          }
        }
      ]
    },
    {
      "cell_type": "markdown",
      "metadata": {
        "id": "55Z0TicPJEH_",
        "colab_type": "text"
      },
      "source": [
        ""
      ]
    }
  ]
}